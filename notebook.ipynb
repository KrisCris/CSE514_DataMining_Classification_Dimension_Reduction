{
 "cells": [
  {
   "cell_type": "code",
   "execution_count": 1,
   "metadata": {},
   "outputs": [],
   "source": [
    "%matplotlib inline\n",
    "import pandas as pd\n",
    "import matplotlib.pyplot as plt\n",
    "import numpy as np"
   ]
  },
  {
   "cell_type": "markdown",
   "metadata": {},
   "source": [
    "# Data preprocessing"
   ]
  },
  {
   "cell_type": "markdown",
   "metadata": {},
   "source": [
    "### Read Data"
   ]
  },
  {
   "cell_type": "code",
   "execution_count": 2,
   "metadata": {},
   "outputs": [],
   "source": [
    "data_path = \"./data/letter-recognition.data\"\n",
    "data = pd.read_csv(data_path, header=None)"
   ]
  },
  {
   "cell_type": "markdown",
   "metadata": {},
   "source": [
    "### Sample Filtering"
   ]
  },
  {
   "cell_type": "code",
   "execution_count": 3,
   "metadata": {},
   "outputs": [],
   "source": [
    "HK = data.loc[(data[0] == 'H') | (data[0] == 'K')]\n",
    "MY = data.loc[(data[0] == 'M') | (data[0] == 'Y')]\n",
    "AB = data.loc[(data[0] == 'A') | (data[0] == 'B')]"
   ]
  },
  {
   "cell_type": "markdown",
   "metadata": {},
   "source": [
    "### Data Standardization & Train/Test Sets Preparing"
   ]
  },
  {
   "cell_type": "code",
   "execution_count": 4,
   "metadata": {},
   "outputs": [],
   "source": [
    "def preprocess(data, percent):\n",
    "    from sklearn.preprocessing import StandardScaler\n",
    "    scaler = StandardScaler()\n",
    "    idx = int(data.shape[0] * percent)\n",
    "    train = data[:idx]\n",
    "    test = data[idx:]\n",
    "    train_X = scaler.fit_transform(train.to_numpy()[:,1:])   \n",
    "    train_y = train.to_numpy()[:,0]\n",
    "    test_X = scaler.transform(test.to_numpy()[:,1:])\n",
    "    test_y = test.to_numpy()[:,0]\n",
    "\n",
    "    return train_X, train_y, test_X, test_y"
   ]
  },
  {
   "cell_type": "code",
   "execution_count": 5,
   "metadata": {},
   "outputs": [],
   "source": [
    "train_X, train_y, test_X, test_y = preprocess(HK, 0.9)"
   ]
  },
  {
   "cell_type": "markdown",
   "metadata": {},
   "source": [
    "# Model Fitting"
   ]
  },
  {
   "cell_type": "markdown",
   "metadata": {},
   "source": [
    "### Cross-Validation & Feature Selection"
   ]
  },
  {
   "cell_type": "code",
   "execution_count": 6,
   "metadata": {},
   "outputs": [],
   "source": [
    "from sklearn.model_selection import GridSearchCV\n",
    "def searchCV(X, y, params, estimator, folds=5):\n",
    "    clf = GridSearchCV(estimator=estimator, param_grid=params, cv=folds)\n",
    "    clf.fit(X, y)\n",
    "    return clf, clf.best_estimator_, clf.best_score_, \\\n",
    "        clf.cv_results_.get('params'), clf.cv_results_.get('mean_test_score'), \\\n",
    "        clf.cv_results_.get('rank_test_score')\n"
   ]
  },
  {
   "cell_type": "markdown",
   "metadata": {},
   "source": [
    "### K-Nearest Neighbors\n",
    "> https://scikit-learn.org/stable/modules/generated/sklearn.neighbors.KNeighborsClassifier.html"
   ]
  },
  {
   "cell_type": "code",
   "execution_count": 121,
   "metadata": {},
   "outputs": [
    {
     "data": {
      "text/plain": [
       "(GridSearchCV(cv=5, estimator=KNeighborsClassifier(),\n",
       "              param_grid={'algorithm': ('ball_tree', 'kd_tree', 'brute'),\n",
       "                          'n_neighbors': (1, 2, 3, 4, 5)}),\n",
       " KNeighborsClassifier(algorithm='ball_tree', n_neighbors=3),\n",
       " 0.9388679245283018,\n",
       " [{'algorithm': 'ball_tree', 'n_neighbors': 1},\n",
       "  {'algorithm': 'ball_tree', 'n_neighbors': 2},\n",
       "  {'algorithm': 'ball_tree', 'n_neighbors': 3},\n",
       "  {'algorithm': 'ball_tree', 'n_neighbors': 4},\n",
       "  {'algorithm': 'ball_tree', 'n_neighbors': 5},\n",
       "  {'algorithm': 'kd_tree', 'n_neighbors': 1},\n",
       "  {'algorithm': 'kd_tree', 'n_neighbors': 2},\n",
       "  {'algorithm': 'kd_tree', 'n_neighbors': 3},\n",
       "  {'algorithm': 'kd_tree', 'n_neighbors': 4},\n",
       "  {'algorithm': 'kd_tree', 'n_neighbors': 5},\n",
       "  {'algorithm': 'brute', 'n_neighbors': 1},\n",
       "  {'algorithm': 'brute', 'n_neighbors': 2},\n",
       "  {'algorithm': 'brute', 'n_neighbors': 3},\n",
       "  {'algorithm': 'brute', 'n_neighbors': 4},\n",
       "  {'algorithm': 'brute', 'n_neighbors': 5}],\n",
       " array([0.93584906, 0.9245283 , 0.93886792, 0.91924528, 0.93132075,\n",
       "        0.93584906, 0.9245283 , 0.93886792, 0.91924528, 0.93132075,\n",
       "        0.93584906, 0.9245283 , 0.93886792, 0.91924528, 0.93132075]),\n",
       " array([ 4, 10,  1, 13,  7,  4, 10,  1, 13,  7,  4, 10,  1, 13,  7]))"
      ]
     },
     "execution_count": 121,
     "metadata": {},
     "output_type": "execute_result"
    }
   ],
   "source": [
    "from sklearn.neighbors import KNeighborsClassifier\n",
    "params = {\n",
    "    'n_neighbors':(1,2,3,4,5),\n",
    "    'algorithm':('ball_tree', 'kd_tree', 'brute')\n",
    "}\n",
    "\n",
    "searchCV(X=train_X, y=train_y, params=params, estimator=KNeighborsClassifier())"
   ]
  },
  {
   "cell_type": "markdown",
   "metadata": {},
   "source": [
    "### Decision Tree\n",
    "> https://scikit-learn.org/stable/modules/generated/sklearn.tree.DecisionTreeClassifier.html"
   ]
  },
  {
   "cell_type": "code",
   "execution_count": 23,
   "metadata": {},
   "outputs": [
    {
     "data": {
      "text/plain": [
       "(GridSearchCV(cv=5, estimator=DecisionTreeClassifier(),\n",
       "              param_grid={'max_depth': [2, 4, 6, 8, 10],\n",
       "                          'max_features': ['auto', 'sqrt', 'log2']}),\n",
       " DecisionTreeClassifier(max_depth=10, max_features='sqrt'),\n",
       " 0.9305660377358491,\n",
       " [{'max_depth': 2, 'max_features': 'auto'},\n",
       "  {'max_depth': 2, 'max_features': 'sqrt'},\n",
       "  {'max_depth': 2, 'max_features': 'log2'},\n",
       "  {'max_depth': 4, 'max_features': 'auto'},\n",
       "  {'max_depth': 4, 'max_features': 'sqrt'},\n",
       "  {'max_depth': 4, 'max_features': 'log2'},\n",
       "  {'max_depth': 6, 'max_features': 'auto'},\n",
       "  {'max_depth': 6, 'max_features': 'sqrt'},\n",
       "  {'max_depth': 6, 'max_features': 'log2'},\n",
       "  {'max_depth': 8, 'max_features': 'auto'},\n",
       "  {'max_depth': 8, 'max_features': 'sqrt'},\n",
       "  {'max_depth': 8, 'max_features': 'log2'},\n",
       "  {'max_depth': 10, 'max_features': 'auto'},\n",
       "  {'max_depth': 10, 'max_features': 'sqrt'},\n",
       "  {'max_depth': 10, 'max_features': 'log2'}],\n",
       " array([0.78188679, 0.81735849, 0.78037736, 0.84603774, 0.87471698,\n",
       "        0.85886792, 0.88603774, 0.89660377, 0.88301887, 0.91169811,\n",
       "        0.90641509, 0.91169811, 0.91622642, 0.93056604, 0.92679245]),\n",
       " array([14, 13, 15, 12, 10, 11,  8,  7,  9,  4,  6,  5,  3,  1,  2]))"
      ]
     },
     "execution_count": 23,
     "metadata": {},
     "output_type": "execute_result"
    }
   ],
   "source": [
    "from sklearn.tree import DecisionTreeClassifier\n",
    "params = {\n",
    "    'max_depth': [2, 4, 6, 8, 10],\n",
    "    'max_features': ['auto', 'sqrt', 'log2']\n",
    "}\n",
    "searchCV(X=train_X, y=train_y, params=params, estimator=DecisionTreeClassifier())"
   ]
  },
  {
   "cell_type": "markdown",
   "metadata": {},
   "source": [
    "### SVM\n",
    "> https://scikit-learn.org/stable/modules/generated/sklearn.svm.SVC.html#sklearn.svm.SVC"
   ]
  },
  {
   "cell_type": "code",
   "execution_count": 38,
   "metadata": {},
   "outputs": [
    {
     "data": {
      "text/plain": [
       "(GridSearchCV(cv=5, estimator=SVC(),\n",
       "              param_grid={'C': [3.0, 4.0, 5.0, 6.0, 7.0],\n",
       "                          'kernel': ['linear', 'poly', 'rbf']}),\n",
       " SVC(C=5.0),\n",
       " 0.9826415094339623,\n",
       " [{'C': 3.0, 'kernel': 'linear'},\n",
       "  {'C': 3.0, 'kernel': 'poly'},\n",
       "  {'C': 3.0, 'kernel': 'rbf'},\n",
       "  {'C': 4.0, 'kernel': 'linear'},\n",
       "  {'C': 4.0, 'kernel': 'poly'},\n",
       "  {'C': 4.0, 'kernel': 'rbf'},\n",
       "  {'C': 5.0, 'kernel': 'linear'},\n",
       "  {'C': 5.0, 'kernel': 'poly'},\n",
       "  {'C': 5.0, 'kernel': 'rbf'},\n",
       "  {'C': 6.0, 'kernel': 'linear'},\n",
       "  {'C': 6.0, 'kernel': 'poly'},\n",
       "  {'C': 6.0, 'kernel': 'rbf'},\n",
       "  {'C': 7.0, 'kernel': 'linear'},\n",
       "  {'C': 7.0, 'kernel': 'poly'},\n",
       "  {'C': 7.0, 'kernel': 'rbf'}],\n",
       " array([0.93433962, 0.96226415, 0.97811321, 0.93358491, 0.9645283 ,\n",
       "        0.98037736, 0.93283019, 0.96150943, 0.98264151, 0.93283019,\n",
       "        0.96679245, 0.98188679, 0.93283019, 0.96754717, 0.98037736]),\n",
       " array([11,  9,  5, 12,  8,  3, 13, 10,  1, 13,  7,  2, 13,  6,  3]))"
      ]
     },
     "execution_count": 38,
     "metadata": {},
     "output_type": "execute_result"
    }
   ],
   "source": [
    "from sklearn.svm import SVC\n",
    "params = {\n",
    "    'C': [3.0, 4.0, 5.0, 6.0, 7.0],\n",
    "    'kernel':['linear','poly', 'rbf']\n",
    "}\n",
    "searchCV(X=train_X, y=train_y, params=params, estimator=SVC())"
   ]
  },
  {
   "cell_type": "markdown",
   "metadata": {},
   "source": [
    "### Random Forest\n",
    "> https://scikit-learn.org/stable/modules/generated/sklearn.ensemble.RandomForestClassifier.html"
   ]
  },
  {
   "cell_type": "code",
   "execution_count": 39,
   "metadata": {},
   "outputs": [
    {
     "data": {
      "text/plain": [
       "(GridSearchCV(cv=5, estimator=RandomForestClassifier(),\n",
       "              param_grid={'max_depth': [None, 2, 4, 6, 8],\n",
       "                          'n_estimators': [100, 200, 300, 400, 500]}),\n",
       " RandomForestClassifier(n_estimators=300),\n",
       " 0.9735849056603774,\n",
       " [{'max_depth': None, 'n_estimators': 100},\n",
       "  {'max_depth': None, 'n_estimators': 200},\n",
       "  {'max_depth': None, 'n_estimators': 300},\n",
       "  {'max_depth': None, 'n_estimators': 400},\n",
       "  {'max_depth': None, 'n_estimators': 500},\n",
       "  {'max_depth': 2, 'n_estimators': 100},\n",
       "  {'max_depth': 2, 'n_estimators': 200},\n",
       "  {'max_depth': 2, 'n_estimators': 300},\n",
       "  {'max_depth': 2, 'n_estimators': 400},\n",
       "  {'max_depth': 2, 'n_estimators': 500},\n",
       "  {'max_depth': 4, 'n_estimators': 100},\n",
       "  {'max_depth': 4, 'n_estimators': 200},\n",
       "  {'max_depth': 4, 'n_estimators': 300},\n",
       "  {'max_depth': 4, 'n_estimators': 400},\n",
       "  {'max_depth': 4, 'n_estimators': 500},\n",
       "  {'max_depth': 6, 'n_estimators': 100},\n",
       "  {'max_depth': 6, 'n_estimators': 200},\n",
       "  {'max_depth': 6, 'n_estimators': 300},\n",
       "  {'max_depth': 6, 'n_estimators': 400},\n",
       "  {'max_depth': 6, 'n_estimators': 500},\n",
       "  {'max_depth': 8, 'n_estimators': 100},\n",
       "  {'max_depth': 8, 'n_estimators': 200},\n",
       "  {'max_depth': 8, 'n_estimators': 300},\n",
       "  {'max_depth': 8, 'n_estimators': 400},\n",
       "  {'max_depth': 8, 'n_estimators': 500}],\n",
       " array([0.97056604, 0.97207547, 0.97358491, 0.97056604, 0.97207547,\n",
       "        0.86264151, 0.86641509, 0.86264151, 0.86490566, 0.86339623,\n",
       "        0.91169811, 0.9154717 , 0.91471698, 0.91320755, 0.91698113,\n",
       "        0.94339623, 0.94641509, 0.94490566, 0.94566038, 0.94490566,\n",
       "        0.96603774, 0.96603774, 0.96754717, 0.96754717, 0.96301887]),\n",
       " array([ 4,  2,  1,  4,  2, 24, 21, 25, 22, 23, 20, 17, 18, 19, 16, 15, 11,\n",
       "        13, 12, 13,  8,  8,  6,  6, 10]))"
      ]
     },
     "execution_count": 39,
     "metadata": {},
     "output_type": "execute_result"
    }
   ],
   "source": [
    "from sklearn.ensemble import RandomForestClassifier\n",
    "\n",
    "params = {\n",
    "    'n_estimators': [100, 200, 300, 400, 500],\n",
    "    'max_depth': [None, 2, 4, 6, 8]\n",
    "}\n",
    "searchCV(X=train_X, y=train_y, params=params, estimator=RandomForestClassifier())"
   ]
  },
  {
   "cell_type": "markdown",
   "metadata": {},
   "source": [
    "### Artificial Neural Network\n",
    "> https://scikit-learn.org/stable/modules/generated/sklearn.neural_network.MLPClassifier.html#sklearn.neural_network.MLPClassifier"
   ]
  },
  {
   "cell_type": "code",
   "execution_count": 40,
   "metadata": {},
   "outputs": [
    {
     "data": {
      "text/plain": [
       "(GridSearchCV(cv=5,\n",
       "              estimator=MLPClassifier(learning_rate='adaptive', max_iter=2000),\n",
       "              param_grid={'activation': ['relu', 'tanh', 'logistic'],\n",
       "                          'learning_rate': ['constant', 'invscaling',\n",
       "                                            'adaptive'],\n",
       "                          'solver': ['lbfgs', 'sgd', 'adam']}),\n",
       " MLPClassifier(activation='tanh', learning_rate='invscaling', max_iter=2000),\n",
       " 0.9796226415094338,\n",
       " [{'activation': 'relu', 'learning_rate': 'constant', 'solver': 'lbfgs'},\n",
       "  {'activation': 'relu', 'learning_rate': 'constant', 'solver': 'sgd'},\n",
       "  {'activation': 'relu', 'learning_rate': 'constant', 'solver': 'adam'},\n",
       "  {'activation': 'relu', 'learning_rate': 'invscaling', 'solver': 'lbfgs'},\n",
       "  {'activation': 'relu', 'learning_rate': 'invscaling', 'solver': 'sgd'},\n",
       "  {'activation': 'relu', 'learning_rate': 'invscaling', 'solver': 'adam'},\n",
       "  {'activation': 'relu', 'learning_rate': 'adaptive', 'solver': 'lbfgs'},\n",
       "  {'activation': 'relu', 'learning_rate': 'adaptive', 'solver': 'sgd'},\n",
       "  {'activation': 'relu', 'learning_rate': 'adaptive', 'solver': 'adam'},\n",
       "  {'activation': 'tanh', 'learning_rate': 'constant', 'solver': 'lbfgs'},\n",
       "  {'activation': 'tanh', 'learning_rate': 'constant', 'solver': 'sgd'},\n",
       "  {'activation': 'tanh', 'learning_rate': 'constant', 'solver': 'adam'},\n",
       "  {'activation': 'tanh', 'learning_rate': 'invscaling', 'solver': 'lbfgs'},\n",
       "  {'activation': 'tanh', 'learning_rate': 'invscaling', 'solver': 'sgd'},\n",
       "  {'activation': 'tanh', 'learning_rate': 'invscaling', 'solver': 'adam'},\n",
       "  {'activation': 'tanh', 'learning_rate': 'adaptive', 'solver': 'lbfgs'},\n",
       "  {'activation': 'tanh', 'learning_rate': 'adaptive', 'solver': 'sgd'},\n",
       "  {'activation': 'tanh', 'learning_rate': 'adaptive', 'solver': 'adam'},\n",
       "  {'activation': 'logistic', 'learning_rate': 'constant', 'solver': 'lbfgs'},\n",
       "  {'activation': 'logistic', 'learning_rate': 'constant', 'solver': 'sgd'},\n",
       "  {'activation': 'logistic', 'learning_rate': 'constant', 'solver': 'adam'},\n",
       "  {'activation': 'logistic', 'learning_rate': 'invscaling', 'solver': 'lbfgs'},\n",
       "  {'activation': 'logistic', 'learning_rate': 'invscaling', 'solver': 'sgd'},\n",
       "  {'activation': 'logistic', 'learning_rate': 'invscaling', 'solver': 'adam'},\n",
       "  {'activation': 'logistic', 'learning_rate': 'adaptive', 'solver': 'lbfgs'},\n",
       "  {'activation': 'logistic', 'learning_rate': 'adaptive', 'solver': 'sgd'},\n",
       "  {'activation': 'logistic', 'learning_rate': 'adaptive', 'solver': 'adam'}],\n",
       " array([0.97433962, 0.95320755, 0.97509434, 0.97433962, 0.55320755,\n",
       "        0.97509434, 0.97433962, 0.95320755, 0.97660377, 0.97283019,\n",
       "        0.93584906, 0.97735849, 0.9645283 , 0.61660377, 0.97962264,\n",
       "        0.96754717, 0.93358491, 0.97584906, 0.97358491, 0.9109434 ,\n",
       "        0.97433962, 0.96226415, 0.49886792, 0.97283019, 0.97283019,\n",
       "        0.9109434 , 0.97358491]),\n",
       " array([ 8, 19,  5,  8, 26,  5,  7, 19,  3, 13, 21,  2, 17, 25,  1, 16, 22,\n",
       "         4, 12, 24,  8, 18, 27, 13, 13, 23, 11]))"
      ]
     },
     "execution_count": 40,
     "metadata": {},
     "output_type": "execute_result"
    }
   ],
   "source": [
    "from sklearn.neural_network import MLPClassifier\n",
    "\n",
    "params = {\n",
    "    'activation': ['relu', 'tanh', 'logistic'],\n",
    "    'solver': ['lbfgs', 'sgd', 'adam'],\n",
    "    'learning_rate': ['constant', 'invscaling', 'adaptive']\n",
    "}\n",
    "searchCV(X=train_X, y=train_y, params=params, estimator=MLPClassifier(learning_rate='adaptive', max_iter=2000))"
   ]
  },
  {
   "cell_type": "markdown",
   "metadata": {},
   "source": [
    "# Dimension Reduction"
   ]
  },
  {
   "cell_type": "markdown",
   "metadata": {},
   "source": [
    "> https://scikit-learn.org/stable/modules/feature_selection.html\n",
    "> \n",
    "> https://scikit-learn.org/stable/modules/unsupervised_reduction.html"
   ]
  },
  {
   "cell_type": "markdown",
   "metadata": {},
   "source": [
    "## Feature Extration (3)"
   ]
  },
  {
   "cell_type": "markdown",
   "metadata": {},
   "source": [
    "### PCA"
   ]
  },
  {
   "cell_type": "code",
   "execution_count": 94,
   "metadata": {},
   "outputs": [
    {
     "data": {
      "text/plain": [
       "(1325, 4)"
      ]
     },
     "execution_count": 94,
     "metadata": {},
     "output_type": "execute_result"
    }
   ],
   "source": [
    "from sklearn.decomposition import PCA\n",
    "pca = PCA(n_components=4)\n",
    "train_pca_X = pca.fit_transform(train_X)\n",
    "test_pca_X = pca.transform(test_X)\n",
    "train_pca_X.shape"
   ]
  },
  {
   "cell_type": "markdown",
   "metadata": {},
   "source": [
    "### SVD"
   ]
  },
  {
   "cell_type": "code",
   "execution_count": 95,
   "metadata": {},
   "outputs": [
    {
     "data": {
      "text/plain": [
       "(1325, 4)"
      ]
     },
     "execution_count": 95,
     "metadata": {},
     "output_type": "execute_result"
    }
   ],
   "source": [
    "from sklearn.decomposition import TruncatedSVD\n",
    "svd = TruncatedSVD(n_components=4)\n",
    "train_svd_X = svd.fit_transform(train_X)\n",
    "test_svd_X = svd.transform(test_X)\n",
    "train_svd_X.shape"
   ]
  },
  {
   "cell_type": "markdown",
   "metadata": {},
   "source": [
    "### NMF"
   ]
  },
  {
   "cell_type": "code",
   "execution_count": 96,
   "metadata": {},
   "outputs": [
    {
     "data": {
      "text/plain": [
       "(1325, 4)"
      ]
     },
     "execution_count": 96,
     "metadata": {},
     "output_type": "execute_result"
    }
   ],
   "source": [
    "from sklearn.decomposition import NMF\n",
    "nmf = TruncatedSVD(n_components=4)\n",
    "train_nmf_X = nmf.fit_transform(train_X)\n",
    "test_nmf_X = nmf.transform(test_X)\n",
    "train_nmf_X.shape"
   ]
  },
  {
   "cell_type": "markdown",
   "metadata": {},
   "source": [
    "## Warpper Feature Selection (2)"
   ]
  },
  {
   "cell_type": "markdown",
   "metadata": {},
   "source": [
    "### Forward Feature Construction"
   ]
  },
  {
   "cell_type": "code",
   "execution_count": 92,
   "metadata": {},
   "outputs": [
    {
     "data": {
      "text/plain": [
       "(1325, 4)"
      ]
     },
     "execution_count": 92,
     "metadata": {},
     "output_type": "execute_result"
    }
   ],
   "source": [
    "from sklearn.feature_selection import SequentialFeatureSelector\n",
    "from sklearn.neighbors import KNeighborsClassifier\n",
    "ffs = SequentialFeatureSelector(KNeighborsClassifier(n_neighbors=3), n_features_to_select=4)\n",
    "train_ffs_X = sfs.fit_transform(train_X, train_y)\n",
    "test_ffs_X = sfs.transform(test_X)\n",
    "train_ffs_X.shape"
   ]
  },
  {
   "cell_type": "markdown",
   "metadata": {},
   "source": [
    "### Backward Feature Elimination"
   ]
  },
  {
   "cell_type": "code",
   "execution_count": 93,
   "metadata": {},
   "outputs": [
    {
     "data": {
      "text/plain": [
       "(1325, 4)"
      ]
     },
     "execution_count": 93,
     "metadata": {},
     "output_type": "execute_result"
    }
   ],
   "source": [
    "from sklearn.feature_selection import SequentialFeatureSelector\n",
    "from sklearn.neighbors import KNeighborsClassifier\n",
    "bfe = SequentialFeatureSelector(KNeighborsClassifier(n_neighbors=3), n_features_to_select=4, direction='backward')\n",
    "train_bfe_X = bfe.fit_transform(train_X, train_y)\n",
    "test_bfe_X = bfe.transform(test_X)\n",
    "train_bfe_X.shape"
   ]
  },
  {
   "cell_type": "markdown",
   "metadata": {},
   "source": [
    "## Embedded Methods (3)"
   ]
  },
  {
   "cell_type": "markdown",
   "metadata": {},
   "source": [
    "### Decision Trees\n"
   ]
  },
  {
   "cell_type": "code",
   "execution_count": 91,
   "metadata": {},
   "outputs": [
    {
     "data": {
      "text/plain": [
       "(1325, 4)"
      ]
     },
     "execution_count": 91,
     "metadata": {},
     "output_type": "execute_result"
    }
   ],
   "source": [
    "from sklearn.tree import DecisionTreeClassifier\n",
    "from sklearn.feature_selection import SelectFromModel\n",
    "\n",
    "tree = SelectFromModel(estimator=DecisionTreeClassifier(), max_features=4)\n",
    "train_tree_X = tree.fit_transform(train_X, train_y)\n",
    "test_tree_X = tree.transform(test_X)\n",
    "train_tree_X.shape"
   ]
  },
  {
   "cell_type": "markdown",
   "metadata": {},
   "source": [
    "### Random Forest"
   ]
  },
  {
   "cell_type": "code",
   "execution_count": 90,
   "metadata": {},
   "outputs": [
    {
     "data": {
      "text/plain": [
       "(1325, 4)"
      ]
     },
     "execution_count": 90,
     "metadata": {},
     "output_type": "execute_result"
    }
   ],
   "source": [
    "from sklearn.ensemble import RandomForestClassifier\n",
    "from sklearn.feature_selection import SelectFromModel\n",
    "\n",
    "forest = SelectFromModel(estimator=RandomForestClassifier(), max_features=4)\n",
    "train_forest_X = forest.fit_transform(train_X, train_y)\n",
    "test_forest_X = forest.transform(test_X)\n",
    "train_forest_X.shape"
   ]
  },
  {
   "cell_type": "markdown",
   "metadata": {},
   "source": [
    "### LASSO Regression (L1-Based Feature Selection)"
   ]
  },
  {
   "cell_type": "code",
   "execution_count": 89,
   "metadata": {},
   "outputs": [
    {
     "data": {
      "text/plain": [
       "(1325, 4)"
      ]
     },
     "execution_count": 89,
     "metadata": {},
     "output_type": "execute_result"
    }
   ],
   "source": [
    "from sklearn.svm import LinearSVC\n",
    "from sklearn.feature_selection import SelectFromModel\n",
    "lr = SelectFromModel(LinearSVC(C=0.0026, penalty=\"l1\", dual=False).fit(train_X, train_y), prefit=True)\n",
    "train_lr_X = lr.transform(train_X)\n",
    "test_lr_X = lr.transform(test_X)\n",
    "train_lr_X.shape"
   ]
  }
 ],
 "metadata": {
  "interpreter": {
   "hash": "235802a8970aed4914fd2ac74287aad8b734e74dd5e06a37fec8b1d40458c16a"
  },
  "kernelspec": {
   "display_name": "Python 3.9.12 ('venv': venv)",
   "language": "python",
   "name": "python3"
  },
  "language_info": {
   "codemirror_mode": {
    "name": "ipython",
    "version": 3
   },
   "file_extension": ".py",
   "mimetype": "text/x-python",
   "name": "python",
   "nbconvert_exporter": "python",
   "pygments_lexer": "ipython3",
   "version": "3.9.12"
  },
  "orig_nbformat": 4
 },
 "nbformat": 4,
 "nbformat_minor": 2
}
