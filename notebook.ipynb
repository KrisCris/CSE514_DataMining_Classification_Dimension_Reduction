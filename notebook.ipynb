{
 "cells": [
  {
   "cell_type": "code",
   "execution_count": 1,
   "metadata": {},
   "outputs": [],
   "source": [
    "%matplotlib inline\n",
    "import pandas as pd\n",
    "import matplotlib.pyplot as plt\n",
    "import numpy as np"
   ]
  },
  {
   "cell_type": "code",
   "execution_count": 2,
   "metadata": {},
   "outputs": [],
   "source": [
    "data_path = \"./data/letter-recognition.data\"\n",
    "data = pd.read_csv(data_path, header=None)"
   ]
  },
  {
   "cell_type": "code",
   "execution_count": 3,
   "metadata": {},
   "outputs": [],
   "source": [
    "HK = data.loc[(data[0] == 'H') | (data[0] == 'K')]\n",
    "MY = data.loc[(data[0] == 'M') | (data[0] == 'Y')]\n",
    "AB = data.loc[(data[0] == 'A') | (data[0] == 'B')]"
   ]
  },
  {
   "cell_type": "code",
   "execution_count": 4,
   "metadata": {},
   "outputs": [],
   "source": [
    "def preprocess(data, percent):\n",
    "    from sklearn.preprocessing import StandardScaler\n",
    "    scaler = StandardScaler()\n",
    "    idx = int(data.shape[0] * percent)\n",
    "    train = data[:idx]\n",
    "    test = data[idx:]\n",
    "    train_X = scaler.fit_transform(train.to_numpy()[:,1:])   \n",
    "    train_y = train.to_numpy()[:,0]\n",
    "    test_X = scaler.transform(test.to_numpy()[:,1:])\n",
    "    test_y = test.to_numpy()[:,0]\n",
    "\n",
    "    return train_X, train_y, test_X, test_y"
   ]
  },
  {
   "cell_type": "code",
   "execution_count": 5,
   "metadata": {},
   "outputs": [],
   "source": [
    "train_X, train_y, test_X, test_y = preprocess(HK, 0.9)"
   ]
  },
  {
   "cell_type": "code",
   "execution_count": 6,
   "metadata": {},
   "outputs": [],
   "source": [
    "from sklearn.model_selection import GridSearchCV\n",
    "def searchCV(X, y, params, estimator, folds=5):\n",
    "    clf = GridSearchCV(estimator=estimator, param_grid=params, cv=folds)\n",
    "    clf.fit(X, y)\n",
    "    return clf, clf.best_estimator_, clf.best_score_, \\\n",
    "        clf.cv_results_.get('params'), clf.cv_results_.get('mean_test_score'), \\\n",
    "        clf.cv_results_.get('rank_test_score')\n"
   ]
  },
  {
   "cell_type": "markdown",
   "metadata": {},
   "source": [
    "> https://scikit-learn.org/stable/modules/generated/sklearn.neighbors.KNeighborsClassifier.html"
   ]
  },
  {
   "cell_type": "code",
   "execution_count": 121,
   "metadata": {},
   "outputs": [
    {
     "data": {
      "text/plain": [
       "(GridSearchCV(cv=5, estimator=KNeighborsClassifier(),\n",
       "              param_grid={'algorithm': ('ball_tree', 'kd_tree', 'brute'),\n",
       "                          'n_neighbors': (1, 2, 3, 4, 5)}),\n",
       " KNeighborsClassifier(algorithm='ball_tree', n_neighbors=3),\n",
       " 0.9388679245283018,\n",
       " [{'algorithm': 'ball_tree', 'n_neighbors': 1},\n",
       "  {'algorithm': 'ball_tree', 'n_neighbors': 2},\n",
       "  {'algorithm': 'ball_tree', 'n_neighbors': 3},\n",
       "  {'algorithm': 'ball_tree', 'n_neighbors': 4},\n",
       "  {'algorithm': 'ball_tree', 'n_neighbors': 5},\n",
       "  {'algorithm': 'kd_tree', 'n_neighbors': 1},\n",
       "  {'algorithm': 'kd_tree', 'n_neighbors': 2},\n",
       "  {'algorithm': 'kd_tree', 'n_neighbors': 3},\n",
       "  {'algorithm': 'kd_tree', 'n_neighbors': 4},\n",
       "  {'algorithm': 'kd_tree', 'n_neighbors': 5},\n",
       "  {'algorithm': 'brute', 'n_neighbors': 1},\n",
       "  {'algorithm': 'brute', 'n_neighbors': 2},\n",
       "  {'algorithm': 'brute', 'n_neighbors': 3},\n",
       "  {'algorithm': 'brute', 'n_neighbors': 4},\n",
       "  {'algorithm': 'brute', 'n_neighbors': 5}],\n",
       " array([0.93584906, 0.9245283 , 0.93886792, 0.91924528, 0.93132075,\n",
       "        0.93584906, 0.9245283 , 0.93886792, 0.91924528, 0.93132075,\n",
       "        0.93584906, 0.9245283 , 0.93886792, 0.91924528, 0.93132075]),\n",
       " array([ 4, 10,  1, 13,  7,  4, 10,  1, 13,  7,  4, 10,  1, 13,  7]))"
      ]
     },
     "execution_count": 121,
     "metadata": {},
     "output_type": "execute_result"
    }
   ],
   "source": [
    "from sklearn.neighbors import KNeighborsClassifier\n",
    "params = {\n",
    "    'n_neighbors':(1,2,3,4,5),\n",
    "    'algorithm':('ball_tree', 'kd_tree', 'brute')\n",
    "}\n",
    "\n",
    "searchCV(X=train_X, y=train_y, params=params, estimator=KNeighborsClassifier())"
   ]
  },
  {
   "cell_type": "markdown",
   "metadata": {},
   "source": [
    "> https://scikit-learn.org/stable/modules/generated/sklearn.tree.DecisionTreeClassifier.html"
   ]
  },
  {
   "cell_type": "code",
   "execution_count": 122,
   "metadata": {},
   "outputs": [
    {
     "data": {
      "text/plain": [
       "(GridSearchCV(cv=5, estimator=DecisionTreeClassifier(), param_grid={}),\n",
       " DecisionTreeClassifier(),\n",
       " 0.9403773584905661,\n",
       " [{}],\n",
       " array([0.94037736]),\n",
       " array([1]))"
      ]
     },
     "execution_count": 122,
     "metadata": {},
     "output_type": "execute_result"
    }
   ],
   "source": [
    "from sklearn.tree import DecisionTreeClassifier\n",
    "params = {\n",
    "    \n",
    "}\n",
    "searchCV(X=train_X, y=train_y, params=params, estimator=DecisionTreeClassifier())"
   ]
  },
  {
   "cell_type": "markdown",
   "metadata": {},
   "source": [
    "> https://scikit-learn.org/stable/modules/generated/sklearn.svm.SVC.html#sklearn.svm.SVC"
   ]
  },
  {
   "cell_type": "code",
   "execution_count": 123,
   "metadata": {},
   "outputs": [
    {
     "data": {
      "text/plain": [
       "(GridSearchCV(cv=5, estimator=SVC(),\n",
       "              param_grid={'C': (1.0, 2.0, 3.0, 4.0, 5.0),\n",
       "                          'kernel': ('poly', 'rbf', 'sigmoid')}),\n",
       " SVC(C=5.0),\n",
       " 0.9826415094339623,\n",
       " [{'C': 1.0, 'kernel': 'poly'},\n",
       "  {'C': 1.0, 'kernel': 'rbf'},\n",
       "  {'C': 1.0, 'kernel': 'sigmoid'},\n",
       "  {'C': 2.0, 'kernel': 'poly'},\n",
       "  {'C': 2.0, 'kernel': 'rbf'},\n",
       "  {'C': 2.0, 'kernel': 'sigmoid'},\n",
       "  {'C': 3.0, 'kernel': 'poly'},\n",
       "  {'C': 3.0, 'kernel': 'rbf'},\n",
       "  {'C': 3.0, 'kernel': 'sigmoid'},\n",
       "  {'C': 4.0, 'kernel': 'poly'},\n",
       "  {'C': 4.0, 'kernel': 'rbf'},\n",
       "  {'C': 4.0, 'kernel': 'sigmoid'},\n",
       "  {'C': 5.0, 'kernel': 'poly'},\n",
       "  {'C': 5.0, 'kernel': 'rbf'},\n",
       "  {'C': 5.0, 'kernel': 'sigmoid'}],\n",
       " array([0.94867925, 0.96830189, 0.79018868, 0.95924528, 0.97962264,\n",
       "        0.77962264, 0.96226415, 0.97811321, 0.77660377, 0.9645283 ,\n",
       "        0.98037736, 0.77735849, 0.96150943, 0.98264151, 0.77660377]),\n",
       " array([10,  5, 11,  9,  3, 12,  7,  4, 14,  6,  2, 13,  8,  1, 14]))"
      ]
     },
     "execution_count": 123,
     "metadata": {},
     "output_type": "execute_result"
    }
   ],
   "source": [
    "from sklearn.svm import SVC\n",
    "params = {\n",
    "    'C': (1.0, 2.0, 3.0, 4.0, 5.0),\n",
    "    'kernel':('poly', 'rbf', 'sigmoid')\n",
    "}\n",
    "searchCV(X=train_X, y=train_y, params=params, estimator=SVC())"
   ]
  },
  {
   "cell_type": "markdown",
   "metadata": {},
   "source": [
    "https://scikit-learn.org/stable/modules/generated/sklearn.ensemble.RandomForestClassifier.html"
   ]
  },
  {
   "cell_type": "code",
   "execution_count": 124,
   "metadata": {},
   "outputs": [
    {
     "data": {
      "text/plain": [
       "(GridSearchCV(cv=5, estimator=RandomForestClassifier(),\n",
       "              param_grid={'n_estimators': (50, 100, 150, 200, 250, 1000)}),\n",
       " RandomForestClassifier(n_estimators=150),\n",
       " 0.9728301886792453,\n",
       " [{'n_estimators': 50},\n",
       "  {'n_estimators': 100},\n",
       "  {'n_estimators': 150},\n",
       "  {'n_estimators': 200},\n",
       "  {'n_estimators': 250},\n",
       "  {'n_estimators': 1000}],\n",
       " array([0.96981132, 0.96981132, 0.97283019, 0.97207547, 0.96981132,\n",
       "        0.96981132]),\n",
       " array([3, 3, 1, 2, 3, 3]))"
      ]
     },
     "execution_count": 124,
     "metadata": {},
     "output_type": "execute_result"
    }
   ],
   "source": [
    "from sklearn.ensemble import RandomForestClassifier\n",
    "\n",
    "params = {\n",
    "    'n_estimators': (50, 100, 150, 200, 250, 1000)\n",
    "}\n",
    "searchCV(X=train_X, y=train_y, params=params, estimator=RandomForestClassifier())"
   ]
  },
  {
   "cell_type": "markdown",
   "metadata": {},
   "source": [
    "https://scikit-learn.org/stable/modules/generated/sklearn.neural_network.MLPClassifier.html#sklearn.neural_network.MLPClassifier"
   ]
  },
  {
   "cell_type": "code",
   "execution_count": 131,
   "metadata": {},
   "outputs": [
    {
     "name": "stderr",
     "output_type": "stream",
     "text": [
      "d:\\coding\\CSE514_Assignment2\\venv\\lib\\site-packages\\sklearn\\neural_network\\_multilayer_perceptron.py:692: ConvergenceWarning: Stochastic Optimizer: Maximum iterations (1000) reached and the optimization hasn't converged yet.\n",
      "  warnings.warn(\n",
      "d:\\coding\\CSE514_Assignment2\\venv\\lib\\site-packages\\sklearn\\neural_network\\_multilayer_perceptron.py:692: ConvergenceWarning: Stochastic Optimizer: Maximum iterations (1000) reached and the optimization hasn't converged yet.\n",
      "  warnings.warn(\n",
      "d:\\coding\\CSE514_Assignment2\\venv\\lib\\site-packages\\sklearn\\neural_network\\_multilayer_perceptron.py:692: ConvergenceWarning: Stochastic Optimizer: Maximum iterations (1000) reached and the optimization hasn't converged yet.\n",
      "  warnings.warn(\n"
     ]
    },
    {
     "data": {
      "text/plain": [
       "(GridSearchCV(cv=5,\n",
       "              estimator=MLPClassifier(learning_rate='adaptive', max_iter=1000),\n",
       "              param_grid={'activation': ['relu', 'tanh', 'logistic']}),\n",
       " MLPClassifier(learning_rate='adaptive', max_iter=1000),\n",
       " 0.9773584905660379,\n",
       " [{'activation': 'relu'}, {'activation': 'tanh'}, {'activation': 'logistic'}],\n",
       " array([0.97735849, 0.97735849, 0.97358491]),\n",
       " array([1, 1, 3]))"
      ]
     },
     "execution_count": 131,
     "metadata": {},
     "output_type": "execute_result"
    }
   ],
   "source": [
    "from sklearn.neural_network import MLPClassifier\n",
    "\n",
    "params = {\n",
    "    'activation': ['relu', 'tanh', 'logistic']\n",
    "}\n",
    "searchCV(X=train_X, y=train_y, params=params, estimator=MLPClassifier(solver='adam', learning_rate='adaptive', max_iter=1000))"
   ]
  },
  {
   "cell_type": "markdown",
   "metadata": {},
   "source": [
    "# Dimension Reduction\n"
   ]
  },
  {
   "cell_type": "markdown",
   "metadata": {},
   "source": [
    "> https://scikit-learn.org/stable/modules/feature_selection.html\n",
    "> \n",
    "> https://scikit-learn.org/stable/modules/unsupervised_reduction.html"
   ]
  },
  {
   "cell_type": "markdown",
   "metadata": {},
   "source": [
    "### PCA"
   ]
  },
  {
   "cell_type": "code",
   "execution_count": 10,
   "metadata": {},
   "outputs": [
    {
     "data": {
      "text/plain": [
       "array([[ 0.85377952, -0.20091656, -0.58070488,  0.46947561],\n",
       "       [-2.12332457, -0.42530788,  0.29009342, -0.21664127],\n",
       "       [ 1.67435311, -0.21890295, -1.78748695,  0.93066566],\n",
       "       ...,\n",
       "       [-3.93224347, -0.32109104, -0.71702807,  0.05498993],\n",
       "       [ 1.86916309,  0.7972506 , -1.84798423,  1.20137316],\n",
       "       [ 2.31320111, -1.40238815,  2.28021878,  1.91639989]])"
      ]
     },
     "execution_count": 10,
     "metadata": {},
     "output_type": "execute_result"
    }
   ],
   "source": [
    "from sklearn.decomposition import PCA\n",
    "pca = PCA(n_components=4)\n",
    "train_pca_X = pca.fit_transform(train_X)\n",
    "test_pca_X = pca.transform(test_X)\n",
    "train_pca_X"
   ]
  },
  {
   "cell_type": "markdown",
   "metadata": {},
   "source": [
    "### Greedy Forward Feature Construction"
   ]
  },
  {
   "cell_type": "code",
   "execution_count": 14,
   "metadata": {},
   "outputs": [
    {
     "data": {
      "text/plain": [
       "array([[ 0.19075371,  0.5402138 , -0.70484094, -0.50930649],\n",
       "       [ 0.19075371,  0.98701985, -0.70484094,  0.11553712],\n",
       "       [-0.07390458,  0.5402138 , -0.70484094, -0.50930649],\n",
       "       ...,\n",
       "       [-0.86787942,  1.4338259 ,  1.80062987, -0.50930649],\n",
       "       [-0.60322114,  0.09340775,  1.17426216, -0.50930649],\n",
       "       [ 2.57267824, -1.69381643, -0.70484094, -0.50930649]])"
      ]
     },
     "execution_count": 14,
     "metadata": {},
     "output_type": "execute_result"
    }
   ],
   "source": [
    "from sklearn.feature_selection import SequentialFeatureSelector\n",
    "from sklearn.neighbors import KNeighborsClassifier\n",
    "sfs = SequentialFeatureSelector(KNeighborsClassifier(n_neighbors=3), n_features_to_select=4)\n",
    "train_ffs_X = sfs.fit_transform(train_X, train_y)\n",
    "test_ffs_X = sfs.transform(test_X)\n",
    "train_ffs_X"
   ]
  },
  {
   "cell_type": "markdown",
   "metadata": {},
   "source": [
    "### Tree-Based Feature Selection\n"
   ]
  },
  {
   "cell_type": "code",
   "execution_count": 17,
   "metadata": {},
   "outputs": [
    {
     "data": {
      "text/plain": [
       "array([[ 0.19075371, -0.70484094, -0.50930649, -0.64905441],\n",
       "       [ 0.19075371, -0.70484094,  0.11553712,  1.40835491],\n",
       "       [-0.07390458, -0.70484094, -0.50930649,  0.7225518 ],\n",
       "       ...,\n",
       "       [-0.86787942,  1.80062987, -0.50930649,  0.03674869],\n",
       "       [-0.60322114,  1.17426216, -0.50930649, -0.64905441],\n",
       "       [ 2.57267824, -0.70484094, -0.50930649, -0.64905441]])"
      ]
     },
     "execution_count": 17,
     "metadata": {},
     "output_type": "execute_result"
    }
   ],
   "source": [
    "from sklearn.tree import DecisionTreeClassifier\n",
    "from sklearn.feature_selection import SelectFromModel\n",
    "\n",
    "tree = SelectFromModel(estimator=DecisionTreeClassifier(), max_features=4)\n",
    "train_tree_X = tree.fit_transform(train_X, train_y)\n",
    "test_tree_X = tree.transform(test_X)\n",
    "train_tree_X"
   ]
  }
 ],
 "metadata": {
  "interpreter": {
   "hash": "235802a8970aed4914fd2ac74287aad8b734e74dd5e06a37fec8b1d40458c16a"
  },
  "kernelspec": {
   "display_name": "Python 3.9.12 ('venv': venv)",
   "language": "python",
   "name": "python3"
  },
  "language_info": {
   "codemirror_mode": {
    "name": "ipython",
    "version": 3
   },
   "file_extension": ".py",
   "mimetype": "text/x-python",
   "name": "python",
   "nbconvert_exporter": "python",
   "pygments_lexer": "ipython3",
   "version": "3.9.12"
  },
  "orig_nbformat": 4
 },
 "nbformat": 4,
 "nbformat_minor": 2
}
